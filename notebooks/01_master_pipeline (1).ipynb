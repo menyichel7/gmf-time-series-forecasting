{
 "cells": [
  {
   "cell_type": "markdown",
   "id": "1229b56f",
   "metadata": {},
   "source": [
    "#### 01 — GMF Master Pipeline (Scripts-Driven)\n",
    "\n",
    "This notebook orchestrates the full pipeline using the modular scripts created:\n",
    "\n",
    "1) Data fetch → `scripts/fetch_data.py`  \n",
    "2) EDA & stationarity → `scripts/eda.py`  \n",
    "3) ARIMA model → `scripts/model_arima.py`  \n",
    "4) LSTM model → `scripts/model_lstm.py`  \n",
    "5) Portfolio optimization → `scripts/portfolio.py`  \n",
    "6) Backtesting → `scripts/backtest.py`\n",
    "\n",
    "**Date range:** 2015-07-01 → 2025-07-31  \n",
    "**Assets:** TSLA, SPY, BND\n"
   ]
  },
  {
   "cell_type": "markdown",
   "id": "f954eafe",
   "metadata": {},
   "source": [
    "##### 0) Setup & constants"
   ]
  },
  {
   "cell_type": "code",
   "execution_count": null,
   "id": "e0f805b2",
   "metadata": {},
   "outputs": [],
   "source": [
    "from pathlib import Path\n",
    "import sys, os\n",
    "import pandas as pd\n",
    "import numpy as np\n",
    "\n",
    "# Make sure the 'scripts' directory is importable\n",
    "scripts_path = Path('scripts')\n",
    "if scripts_path.exists():\n",
    "    sys.path.append(str(scripts_path.resolve()))\n",
    "\n",
    "# Create output folders\n",
    "Path('data').mkdir(exist_ok=True)\n",
    "Path('results/plots').mkdir(parents=True, exist_ok=True)\n",
    "Path('results/forecasts').mkdir(parents=True, exist_ok=True)\n",
    "Path('results/backtests').mkdir(parents=True, exist_ok=True)\n",
    "\n",
    "TICKERS = ['TSLA', 'SPY', 'BND']\n",
    "START = '2015-07-01'\n",
    "END = '2025-07-31'\n",
    "TRAIN_END = '2023-12-31'\n",
    "TEST_START = '2024-01-01'\n",
    "BACKTEST_START = '2024-08-01'\n",
    "BACKTEST_END = '2025-07-31'\n",
    "\n",
    "print('Environment ready.')\n"
   ]
  },
  {
   "cell_type": "markdown",
   "id": "d610c696",
   "metadata": {},
   "source": [
    "##### 1) Fetch data with yfinance (via `scripts/fetch_data.py`)"
   ]
  },
  {
   "cell_type": "code",
   "execution_count": null,
   "id": "5a9dea4b",
   "metadata": {},
   "outputs": [],
   "source": [
    "from fetch_data import download_data, save_data\n",
    "\n",
    "all_data = download_data(TICKERS, start=START, end=END)\n",
    "save_data(all_data, path='data/')\n",
    "\n",
    "print('Saved CSVs to data/:', [f'data/{t}.csv' for t in TICKERS])\n"
   ]
  },
  {
   "cell_type": "markdown",
   "id": "362fdabc",
   "metadata": {},
   "source": [
    "##### 2) Load datasets and quick sanity checks"
   ]
  },
  {
   "cell_type": "code",
   "execution_count": null,
   "id": "c51cf3ed",
   "metadata": {},
   "outputs": [],
   "source": [
    "tsla = pd.read_csv('data/TSLA.csv', index_col=0, parse_dates=True)\n",
    "spy  = pd.read_csv('data/SPY.csv', index_col=0, parse_dates=True)\n",
    "bnd  = pd.read_csv('data/BND.csv', index_col=0, parse_dates=True)\n",
    "\n",
    "# Ensure expected columns\n",
    "for name, df in [('TSLA', tsla), ('SPY', spy), ('BND', bnd)]:\n",
    "    assert 'Close' in df.columns, f\"{name} CSV missing Close column\"\n",
    "\n",
    "# Merge for later use\n",
    "prices = pd.concat([tsla['Close'], spy['Close'], bnd['Close']], axis=1)\n",
    "prices.columns = ['TSLA','SPY','BND']\n",
    "prices = prices.dropna()\n",
    "prices.head()\n"
   ]
  },
  {
   "cell_type": "markdown",
   "id": "3ecb4c36",
   "metadata": {},
   "source": [
    "##### 3) EDA & stationarity (via `scripts/eda.py`)"
   ]
  },
  {
   "cell_type": "code",
   "execution_count": null,
   "id": "692c0149",
   "metadata": {},
   "outputs": [],
   "source": [
    "from eda import plot_rolling_stats, test_stationarity\n",
    "import matplotlib.pyplot as plt\n",
    "\n",
    "# Rolling stats & ADF on TSLA\n",
    "plot_rolling_stats(tsla['Close'], window=30)\n",
    "is_stat = test_stationarity(tsla['Close'])\n",
    "print('TSLA Close stationary:', is_stat)\n",
    "\n",
    "# Save a simple closing price plot\n",
    "plt.figure(figsize=(12,5))\n",
    "plt.plot(prices.index, prices['TSLA'], label='TSLA')\n",
    "plt.plot(prices.index, prices['SPY'], label='SPY')\n",
    "plt.plot(prices.index, prices['BND'], label='BND')\n",
    "plt.title('Closing Prices (2015-07-01 to 2025-07-31)')\n",
    "plt.legend()\n",
    "plt.tight_layout()\n",
    "plt.savefig('results/plots/closing_prices.png')\n",
    "plt.show()\n"
   ]
  },
  {
   "cell_type": "markdown",
   "id": "02a7cd14",
   "metadata": {},
   "source": [
    "##### 4) ARIMA modeling (via `scripts/model_arima.py`)"
   ]
  },
  {
   "cell_type": "code",
   "execution_count": null,
   "id": "f3ccb488",
   "metadata": {},
   "outputs": [],
   "source": [
    "from model_arima import train_arima, forecast_arima\n",
    "from sklearn.metrics import mean_absolute_error, mean_squared_error\n",
    "\n",
    "# Train/test split on TSLA\n",
    "tsla_full = tsla['Close'].copy().asfreq('B')\n",
    "tsla_full = tsla_full.interpolate()\n",
    "\n",
    "train_tsla = tsla_full.loc[:TRAIN_END]\n",
    "test_tsla  = tsla_full.loc[TEST_START:]\n",
    "\n",
    "# Train ARIMA (on log-transformed series to stabilize variance)\n",
    "train_log = np.log(train_tsla.dropna())\n",
    "arima_model = train_arima(train_log)\n",
    "\n",
    "# Forecast length equals test set length\n",
    "n_periods = len(test_tsla)\n",
    "fc_log = forecast_arima(arima_model, periods=n_periods)\n",
    "fc = np.exp(fc_log)  # invert log\n",
    "\n",
    "# Evaluate\n",
    "mae = mean_absolute_error(test_tsla, fc)\n",
    "rmse = mean_squared_error(test_tsla, fc, squared=False)\n",
    "print('ARIMA Test MAE:', mae)\n",
    "print('ARIMA Test RMSE:', rmse)\n",
    "\n",
    "# Save forecast\n",
    "pd.Series(fc, index=test_tsla.index).to_csv('results/forecasts/tsla_arima_test_forecast.csv')\n",
    "print('Saved ARIMA test forecast -> results/forecasts/tsla_arima_test_forecast.csv')\n"
   ]
  },
  {
   "cell_type": "markdown",
   "id": "b90016f9",
   "metadata": {},
   "source": [
    "##### 5) LSTM modeling (via `scripts/model_lstm.py`)"
   ]
  },
  {
   "cell_type": "code",
   "execution_count": 9,
   "id": "1890b8ef",
   "metadata": {},
   "outputs": [
    {
     "ename": "NameError",
     "evalue": "name 'tsla_full' is not defined",
     "output_type": "error",
     "traceback": [
      "\u001b[31m---------------------------------------------------------------------------\u001b[39m",
      "\u001b[31mNameError\u001b[39m                                 Traceback (most recent call last)",
      "\u001b[36mCell\u001b[39m\u001b[36m \u001b[39m\u001b[32mIn[9]\u001b[39m\u001b[32m, line 5\u001b[39m\n\u001b[32m      2\u001b[39m \u001b[38;5;28;01mimport\u001b[39;00m\u001b[38;5;250m \u001b[39m\u001b[34;01mmatplotlib\u001b[39;00m\u001b[34;01m.\u001b[39;00m\u001b[34;01mpyplot\u001b[39;00m\u001b[38;5;250m \u001b[39m\u001b[38;5;28;01mas\u001b[39;00m\u001b[38;5;250m \u001b[39m\u001b[34;01mplt\u001b[39;00m\n\u001b[32m      4\u001b[39m \u001b[38;5;66;03m# Prepare data\u001b[39;00m\n\u001b[32m----> \u001b[39m\u001b[32m5\u001b[39m series = \u001b[43mtsla_full\u001b[49m  \u001b[38;5;66;03m# business-day frequency, interpolated\u001b[39;00m\n\u001b[32m      6\u001b[39m X, y, scaler = prepare_lstm_data(series, look_back=\u001b[32m60\u001b[39m)\n\u001b[32m      7\u001b[39m split_idx = \u001b[38;5;28mint\u001b[39m(\u001b[38;5;28mlen\u001b[39m(X) * \u001b[32m0.8\u001b[39m)\n",
      "\u001b[31mNameError\u001b[39m: name 'tsla_full' is not defined"
     ]
    }
   ],
   "source": [
    "from model_lstm import prepare_lstm_data, build_lstm_model\n",
    "import matplotlib.pyplot as plt\n",
    "\n",
    "# Prepare data\n",
    "series = tsla_full  # business-day frequency, interpolated\n",
    "X, y, scaler = prepare_lstm_data(series, look_back=60)\n",
    "split_idx = int(len(X) * 0.8)\n",
    "\n",
    "X_train, y_train = X[:split_idx], y[:split_idx]\n",
    "X_test, y_test = X[split_idx:], y[split_idx:]\n",
    "\n",
    "# Build & train\n",
    "model = build_lstm_model((X_train.shape[1], 1))\n",
    "history = model.fit(X_train, y_train, epochs=30, batch_size=32, validation_split=0.1, verbose=0)\n",
    "\n",
    "# Predict\n",
    "pred_scaled = model.predict(X_test).flatten()\n",
    "pred = scaler.inverse_transform(pred_scaled.reshape(-1,1)).flatten()\n",
    "\n",
    "true = scaler.inverse_transform(y_test.reshape(-1,1)).flatten()\n",
    "\n",
    "# Metrics\n",
    "from sklearn.metrics import mean_absolute_error, mean_squared_error\n",
    "mae_lstm = mean_absolute_error(true, pred)\n",
    "rmse_lstm = mean_squared_error(true, pred, squared=False)\n",
    "print('LSTM Test MAE:', mae_lstm)\n",
    "print('LSTM Test RMSE:', rmse_lstm)\n",
    "\n",
    "# Plot predictions vs truth (last portion)\n",
    "plt.figure(figsize=(12,5))\n",
    "plt.plot(true, label='True')\n",
    "plt.plot(pred, label='LSTM Pred')\n",
    "plt.title('LSTM Test Predictions (scaled back to price)')\n",
    "plt.legend()\n",
    "plt.tight_layout()\n",
    "plt.savefig('results/plots/tsla_lstm_test.png')\n",
    "plt.show()\n"
   ]
  },
  {
   "cell_type": "markdown",
   "id": "e37829ee",
   "metadata": {},
   "source": [
    "##### 6) Portfolio optimization (via `scripts/portfolio.py`)"
   ]
  },
  {
   "cell_type": "code",
   "execution_count": null,
   "id": "a2f28a8b",
   "metadata": {},
   "outputs": [],
   "source": [
    "from portfolio import optimize_portfolio\n",
    "\n",
    "weights = optimize_portfolio(prices)\n",
    "print('Tangency (Max Sharpe) Weights:', weights)\n",
    "\n",
    "# Save weights\n",
    "pd.Series(weights).to_csv('results/forecasts/weights_tangency.csv')\n",
    "print('Saved weights -> results/forecasts/weights_tangency.csv')\n"
   ]
  },
  {
   "cell_type": "markdown",
   "id": "1972803d",
   "metadata": {},
   "source": [
    "##### 7) Backtesting (via `scripts/backtest.py`)"
   ]
  },
  {
   "cell_type": "code",
   "execution_count": null,
   "id": "6dd59f6d",
   "metadata": {},
   "outputs": [],
   "source": [
    "from backtest import calculate_returns, backtest_strategy\n",
    "import matplotlib.pyplot as plt\n",
    "\n",
    "# Restrict to backtest window\n",
    "bt_prices = prices.loc[BACKTEST_START:BACKTEST_END]\n",
    "bt_returns = calculate_returns(bt_prices)\n",
    "\n",
    "# Use optimized weights from above\n",
    "w_series = pd.read_csv('results/forecasts/weights_tangency.csv', index_col=0, header=None, squeeze=True)\n",
    "# For pandas >=1.5, squeeze arg is deprecated; handle accordingly\n",
    "if not hasattr(w_series, 'index') or w_series.shape[1] if hasattr(w_series, 'shape') and len(w_series.shape)>1 else False:\n",
    "    w_series = pd.read_csv('results/forecasts/weights_tangency.csv', index_col=0, header=None)[1]\n",
    "\n",
    "# Align order\n",
    "w = [w_series.get('TSLA', 0.0), w_series.get('SPY', 0.0), w_series.get('BND', 0.0)]\n",
    "\n",
    "cum_strategy = backtest_strategy(bt_returns, w)\n",
    "\n",
    "# Benchmark 60/40 SPY/BND\n",
    "bench_w = [0.0, 0.6, 0.4]\n",
    "cum_bench = backtest_strategy(bt_returns, bench_w)\n",
    "\n",
    "# Plot\n",
    "plt.figure(figsize=(12,5))\n",
    "plt.plot(cum_strategy.index, cum_strategy.values, label='Strategy')\n",
    "plt.plot(cum_bench.index, cum_bench.values, label='60/40 Benchmark')\n",
    "plt.title('Cumulative Returns (Backtest)')\n",
    "plt.legend()\n",
    "plt.tight_layout()\n",
    "plt.savefig('results/backtests/cumulative_returns.png')\n",
    "plt.show()\n",
    "\n",
    "# Simple performance summary\n",
    "def annualized_sharpe(returns, rf=0.0):\n",
    "    mean = returns.mean() * 252\n",
    "    std = returns.std() * (252 ** 0.5)\n",
    "    return (mean - rf) / std\n",
    "\n",
    "print('Strategy Sharpe:', annualized_sharpe(bt_returns @ pd.Series(w, index=['TSLA','SPY','BND'])))\n",
    "print('Benchmark Sharpe:', annualized_sharpe(bt_returns @ pd.Series(bench_w, index=['TSLA','SPY','BND'])))\n",
    "\n",
    "# Save curves\n",
    "cum_df = pd.DataFrame({'Strategy': cum_strategy, 'Benchmark_60_40': cum_bench})\n",
    "cum_df.to_csv('results/backtests/cumulative_returns.csv')\n",
    "print('Saved cumulative returns -> results/backtests/cumulative_returns.csv')\n"
   ]
  }
 ],
 "metadata": {
  "kernelspec": {
   "display_name": "venv",
   "language": "python",
   "name": "python3"
  },
  "language_info": {
   "name": "python",
   "version": "3.11.2"
  }
 },
 "nbformat": 4,
 "nbformat_minor": 5
}
